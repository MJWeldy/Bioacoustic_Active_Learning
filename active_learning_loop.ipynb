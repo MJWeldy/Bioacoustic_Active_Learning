{
 "cells": [
  {
   "cell_type": "markdown",
   "metadata": {},
   "source": [
    "# Active Learning for Bioacoustics\n"
   ]
  },
  {
   "cell_type": "code",
   "execution_count": 1,
   "metadata": {},
   "outputs": [
    {
     "name": "stderr",
     "output_type": "stream",
     "text": [
      "2025-03-14 15:31:54.851190: I tensorflow/core/util/port.cc:153] oneDNN custom operations are on. You may see slightly different numerical results due to floating-point round-off errors from different computation orders. To turn them off, set the environment variable `TF_ENABLE_ONEDNN_OPTS=0`.\n",
      "2025-03-14 15:31:54.858862: E external/local_xla/xla/stream_executor/cuda/cuda_fft.cc:467] Unable to register cuFFT factory: Attempting to register factory for plugin cuFFT when one has already been registered\n",
      "WARNING: All log messages before absl::InitializeLog() is called are written to STDERR\n",
      "E0000 00:00:1741991514.867675  372174 cuda_dnn.cc:8579] Unable to register cuDNN factory: Attempting to register factory for plugin cuDNN when one has already been registered\n",
      "E0000 00:00:1741991514.870218  372174 cuda_blas.cc:1407] Unable to register cuBLAS factory: Attempting to register factory for plugin cuBLAS when one has already been registered\n",
      "W0000 00:00:1741991514.877227  372174 computation_placer.cc:177] computation placer already registered. Please check linkage and avoid linking the same target more than once.\n",
      "W0000 00:00:1741991514.877243  372174 computation_placer.cc:177] computation placer already registered. Please check linkage and avoid linking the same target more than once.\n",
      "W0000 00:00:1741991514.877244  372174 computation_placer.cc:177] computation placer already registered. Please check linkage and avoid linking the same target more than once.\n",
      "W0000 00:00:1741991514.877245  372174 computation_placer.cc:177] computation placer already registered. Please check linkage and avoid linking the same target more than once.\n",
      "2025-03-14 15:31:54.879792: I tensorflow/core/platform/cpu_feature_guard.cc:210] This TensorFlow binary is optimized to use available CPU instructions in performance-critical operations.\n",
      "To enable the following instructions: AVX2 AVX_VNNI FMA, in other operations, rebuild TensorFlow with the appropriate compiler flags.\n"
     ]
    }
   ],
   "source": [
    "import polars as pl\n",
    "import numpy as np\n",
    "import librosa\n",
    "\n",
    "from pathlib import Path\n",
    "#from typing import List, Dict, Any, Tuple\n",
    "import soundfile as sf\n",
    "import tensorflow as tf\n",
    "import tensorflow_hub as hub\n",
    "\n",
    "from modules import utilities as u\n",
    "from modules import config as cfg\n",
    "from modules import database as db\n",
    "from modules import display as dis\n",
    "\n"
   ]
  },
  {
   "cell_type": "code",
   "execution_count": 2,
   "metadata": {},
   "outputs": [
    {
     "data": {
      "text/plain": [
       "<module 'modules.database' from '/home/matt/pCloudDrive/PROJECTS/Bioacoustic_Active_Learning/modules/database.py'>"
      ]
     },
     "execution_count": 2,
     "metadata": {},
     "output_type": "execute_result"
    }
   ],
   "source": [
    "import importlib\n",
    "importlib.reload(u)\n",
    "importlib.reload(db)"
   ]
  },
  {
   "cell_type": "code",
   "execution_count": 3,
   "metadata": {},
   "outputs": [
    {
     "name": "stdout",
     "output_type": "stream",
     "text": [
      "Name: /physical_device:GPU:0   Type: GPU\n",
      "Name: /physical_device:GPU:1   Type: GPU\n",
      "2 Physical GPUs, 2 Logical GPUs\n"
     ]
    },
    {
     "name": "stderr",
     "output_type": "stream",
     "text": [
      "I0000 00:00:1741991654.957254  372174 gpu_device.cc:2019] Created device /job:localhost/replica:0/task:0/device:GPU:0 with 20525 MB memory:  -> device: 0, name: NVIDIA GeForce RTX 4090, pci bus id: 0000:01:00.0, compute capability: 8.9\n",
      "I0000 00:00:1741991654.957573  372174 gpu_device.cc:2019] Created device /job:localhost/replica:0/task:0/device:GPU:1 with 22272 MB memory:  -> device: 1, name: NVIDIA GeForce RTX 4090, pci bus id: 0000:05:00.0, compute capability: 8.9\n"
     ]
    }
   ],
   "source": [
    "# Setup GPU's so they don't take over my system\n",
    "gpus = tf.config.list_physical_devices(\"GPU\")\n",
    "for gpu in gpus:\n",
    "  print(\"Name:\", gpu.name, \"  Type:\", gpu.device_type)\n",
    "if gpus:\n",
    "  try:\n",
    "      # Currently, memory growth needs to be the same across GPUs\n",
    "      for gpu in gpus:\n",
    "          tf.config.experimental.set_memory_growth(gpu, True)\n",
    "      logical_gpus = tf.config.list_logical_devices(\"GPU\")\n",
    "      print(len(gpus), \"Physical GPUs,\", len(logical_gpus), \"Logical GPUs\")\n",
    "  except RuntimeError as e:\n",
    "      # Memory growth must be set before GPUs have been initialized\n",
    "      print(e) "
   ]
  },
  {
   "cell_type": "code",
   "execution_count": 4,
   "metadata": {},
   "outputs": [],
   "source": [
    "# Loading Perch version 8 from Tensorflow hub\n",
    "e_model = hub.load(\n",
    "    f\"https://www.kaggle.com/models/google/bird-vocalization-classifier/frameworks/TensorFlow2/variations/bird-vocalization-classifier/versions/{cfg.PERCH_V}\"\n",
    ")"
   ]
  },
  {
   "cell_type": "code",
   "execution_count": 5,
   "metadata": {},
   "outputs": [],
   "source": [
    "# Load Classifier\n",
    "classifier_model = tf.keras.models.load_model(f\"./checkpoints/BCE.keras\")"
   ]
  },
  {
   "cell_type": "code",
   "execution_count": 6,
   "metadata": {},
   "outputs": [],
   "source": [
    "# Target path with audio files you'd like to perform active learning over\n",
    "audio_to_label_path = \"./data/\"\n",
    "# Instantiate the audio database\n",
    "audio_db = db.Audio_DB()\n",
    "read_from_file = False\n",
    "if read_from_file:\n",
    "  audio_db.load_db(\"audio_embeddings.parquet\")\n"
   ]
  },
  {
   "cell_type": "code",
   "execution_count": 7,
   "metadata": {},
   "outputs": [
    {
     "name": "stderr",
     "output_type": "stream",
     "text": [
      "WARNING: All log messages before absl::InitializeLog() is called are written to STDERR\n",
      "I0000 00:00:1741991752.908480  372174 service.cc:152] XLA service 0x47947860 initialized for platform CUDA (this does not guarantee that XLA will be used). Devices:\n",
      "I0000 00:00:1741991752.908498  372174 service.cc:160]   StreamExecutor device (0): NVIDIA GeForce RTX 4090, Compute Capability 8.9\n",
      "I0000 00:00:1741991752.908500  372174 service.cc:160]   StreamExecutor device (1): NVIDIA GeForce RTX 4090, Compute Capability 8.9\n",
      "2025-03-14 15:35:53.038218: I tensorflow/compiler/mlir/tensorflow/utils/dump_mlir_util.cc:269] disabling MLIR crash reproducer, set env var `MLIR_CRASH_REPRODUCER_DIRECTORY` to enable.\n",
      "2025-03-14 15:35:53.044768: W tensorflow/compiler/tf2xla/kernels/assert_op.cc:39] Ignoring Assert operator jax2tf_infer_fn_/assert_equal_1/Assert/AssertGuard/Assert\n",
      "I0000 00:00:1741991753.433433  372174 cuda_dnn.cc:529] Loaded cuDNN version 90300\n",
      "2025-03-14 15:35:54.313857: I external/local_xla/xla/stream_executor/cuda/subprocess_compilation.cc:346] ptxas warning : Registers are spilled to local memory in function 'gemm_fusion_dot_2781', 76 bytes spill stores, 76 bytes spill loads\n",
      "\n",
      "2025-03-14 15:35:54.842345: I external/local_xla/xla/stream_executor/cuda/subprocess_compilation.cc:346] ptxas warning : Registers are spilled to local memory in function 'gemm_fusion_dot_3753', 44 bytes spill stores, 44 bytes spill loads\n",
      "\n",
      "2025-03-14 15:35:54.849966: I external/local_xla/xla/stream_executor/cuda/subprocess_compilation.cc:346] ptxas warning : Registers are spilled to local memory in function 'gemm_fusion_dot_3753', 44 bytes spill stores, 44 bytes spill loads\n",
      "\n",
      "2025-03-14 15:35:54.987790: I external/local_xla/xla/stream_executor/cuda/subprocess_compilation.cc:346] ptxas warning : Registers are spilled to local memory in function 'gemm_fusion_dot_3', 208 bytes spill stores, 208 bytes spill loads\n",
      "\n",
      "2025-03-14 15:35:55.051239: I external/local_xla/xla/stream_executor/cuda/subprocess_compilation.cc:346] ptxas warning : Registers are spilled to local memory in function 'gemm_fusion_dot_2307', 88 bytes spill stores, 88 bytes spill loads\n",
      "\n",
      "2025-03-14 15:35:55.174054: I external/local_xla/xla/stream_executor/cuda/subprocess_compilation.cc:346] ptxas warning : Registers are spilled to local memory in function 'gemm_fusion_dot_3', 1004 bytes spill stores, 1004 bytes spill loads\n",
      "\n",
      "2025-03-14 15:35:55.361386: I external/local_xla/xla/stream_executor/cuda/subprocess_compilation.cc:346] ptxas warning : Registers are spilled to local memory in function 'gemm_fusion_dot_3229', 84 bytes spill stores, 84 bytes spill loads\n",
      "\n",
      "2025-03-14 15:35:55.363217: I external/local_xla/xla/stream_executor/cuda/subprocess_compilation.cc:346] ptxas warning : Registers are spilled to local memory in function 'gemm_fusion_dot_3753', 8 bytes spill stores, 8 bytes spill loads\n",
      "\n",
      "2025-03-14 15:35:55.493755: I external/local_xla/xla/stream_executor/cuda/subprocess_compilation.cc:346] ptxas warning : Registers are spilled to local memory in function 'gemm_fusion_dot_3', 2824 bytes spill stores, 2836 bytes spill loads\n",
      "\n",
      "2025-03-14 15:35:55.514086: I external/local_xla/xla/stream_executor/cuda/subprocess_compilation.cc:346] ptxas warning : Registers are spilled to local memory in function 'gemm_fusion_dot_2781', 600 bytes spill stores, 600 bytes spill loads\n",
      "\n",
      "2025-03-14 15:35:55.526331: I external/local_xla/xla/stream_executor/cuda/subprocess_compilation.cc:346] ptxas warning : Registers are spilled to local memory in function 'gemm_fusion_dot_3753', 5216 bytes spill stores, 5196 bytes spill loads\n",
      "\n",
      "2025-03-14 15:35:55.724540: I external/local_xla/xla/stream_executor/cuda/subprocess_compilation.cc:346] ptxas warning : Registers are spilled to local memory in function 'gemm_fusion_dot_3753', 5012 bytes spill stores, 5008 bytes spill loads\n",
      "\n",
      "2025-03-14 15:35:55.868400: I external/local_xla/xla/stream_executor/cuda/subprocess_compilation.cc:346] ptxas warning : Registers are spilled to local memory in function 'gemm_fusion_dot_3753', 268 bytes spill stores, 268 bytes spill loads\n",
      "\n",
      "2025-03-14 15:35:55.963640: I external/local_xla/xla/stream_executor/cuda/subprocess_compilation.cc:346] ptxas warning : Registers are spilled to local memory in function 'gemm_fusion_dot_3', 48 bytes spill stores, 48 bytes spill loads\n",
      "\n",
      "2025-03-14 15:35:56.088410: I external/local_xla/xla/stream_executor/cuda/subprocess_compilation.cc:346] ptxas warning : Registers are spilled to local memory in function 'gemm_fusion_dot_3229', 600 bytes spill stores, 600 bytes spill loads\n",
      "\n",
      "2025-03-14 15:35:56.365244: I external/local_xla/xla/stream_executor/cuda/subprocess_compilation.cc:346] ptxas warning : Registers are spilled to local memory in function 'gemm_fusion_dot_3', 6140 bytes spill stores, 6264 bytes spill loads\n",
      "\n",
      "I0000 00:00:1741991759.569287  372174 device_compiler.h:188] Compiled cluster using XLA!  This line is logged at most once for the lifetime of the process.\n",
      "2025-03-14 15:35:59.770660: W tensorflow/compiler/tf2xla/kernels/assert_op.cc:39] Ignoring Assert operator jax2tf_infer_fn_/assert_equal_1/Assert/AssertGuard/Assert\n",
      "2025-03-14 15:36:01.444823: I external/local_xla/xla/stream_executor/cuda/subprocess_compilation.cc:346] ptxas warning : Registers are spilled to local memory in function 'gemm_fusion_dot_3', 208 bytes spill stores, 208 bytes spill loads\n",
      "\n",
      "2025-03-14 15:36:01.891503: I external/local_xla/xla/stream_executor/cuda/subprocess_compilation.cc:346] ptxas warning : Registers are spilled to local memory in function 'gemm_fusion_dot_3', 1004 bytes spill stores, 1004 bytes spill loads\n",
      "\n",
      "2025-03-14 15:36:02.062838: I external/local_xla/xla/stream_executor/cuda/subprocess_compilation.cc:346] ptxas warning : Registers are spilled to local memory in function 'gemm_fusion_dot_2307', 88 bytes spill stores, 88 bytes spill loads\n",
      "\n",
      "2025-03-14 15:36:02.124341: I external/local_xla/xla/stream_executor/cuda/subprocess_compilation.cc:346] ptxas warning : Registers are spilled to local memory in function 'gemm_fusion_dot_3753', 8 bytes spill stores, 8 bytes spill loads\n",
      "\n",
      "2025-03-14 15:36:02.183986: I external/local_xla/xla/stream_executor/cuda/subprocess_compilation.cc:346] ptxas warning : Registers are spilled to local memory in function 'gemm_fusion_dot_3', 48 bytes spill stores, 48 bytes spill loads\n",
      "\n",
      "2025-03-14 15:36:02.223478: I external/local_xla/xla/stream_executor/cuda/subprocess_compilation.cc:346] ptxas warning : Registers are spilled to local memory in function 'gemm_fusion_dot_3229', 84 bytes spill stores, 84 bytes spill loads\n",
      "\n",
      "2025-03-14 15:36:02.405355: I external/local_xla/xla/stream_executor/cuda/subprocess_compilation.cc:346] ptxas warning : Registers are spilled to local memory in function 'gemm_fusion_dot_2781', 76 bytes spill stores, 76 bytes spill loads\n",
      "\n",
      "2025-03-14 15:36:02.588102: I external/local_xla/xla/stream_executor/cuda/subprocess_compilation.cc:346] ptxas warning : Registers are spilled to local memory in function 'gemm_fusion_dot_2781', 584 bytes spill stores, 584 bytes spill loads\n",
      "\n",
      "2025-03-14 15:36:02.750233: I external/local_xla/xla/stream_executor/cuda/subprocess_compilation.cc:346] ptxas warning : Registers are spilled to local memory in function 'gemm_fusion_dot_3753', 44 bytes spill stores, 44 bytes spill loads\n",
      "\n",
      "2025-03-14 15:36:02.837289: I external/local_xla/xla/stream_executor/cuda/subprocess_compilation.cc:346] ptxas warning : Registers are spilled to local memory in function 'gemm_fusion_dot_3229', 584 bytes spill stores, 584 bytes spill loads\n",
      "\n",
      "2025-03-14 15:36:02.925213: I external/local_xla/xla/stream_executor/cuda/subprocess_compilation.cc:346] ptxas warning : Registers are spilled to local memory in function 'gemm_fusion_dot_3753', 268 bytes spill stores, 268 bytes spill loads\n",
      "\n",
      "2025-03-14 15:36:03.009108: I external/local_xla/xla/stream_executor/cuda/subprocess_compilation.cc:346] ptxas warning : Registers are spilled to local memory in function 'gemm_fusion_dot_3753', 44 bytes spill stores, 44 bytes spill loads\n",
      "\n",
      "2025-03-14 15:36:03.067491: I external/local_xla/xla/stream_executor/cuda/subprocess_compilation.cc:346] ptxas warning : Registers are spilled to local memory in function 'gemm_fusion_dot_3', 2808 bytes spill stores, 2820 bytes spill loads\n",
      "\n",
      "2025-03-14 15:36:03.105613: I external/local_xla/xla/stream_executor/cuda/subprocess_compilation.cc:346] ptxas warning : Registers are spilled to local memory in function 'gemm_fusion_dot_3753', 4936 bytes spill stores, 4932 bytes spill loads\n",
      "\n",
      "2025-03-14 15:36:03.180635: I external/local_xla/xla/stream_executor/cuda/subprocess_compilation.cc:346] ptxas warning : Registers are spilled to local memory in function 'gemm_fusion_dot_3753', 5128 bytes spill stores, 5108 bytes spill loads\n",
      "\n",
      "2025-03-14 15:36:03.255837: I external/local_xla/xla/stream_executor/cuda/subprocess_compilation.cc:346] ptxas warning : Registers are spilled to local memory in function 'gemm_fusion_dot_3', 5904 bytes spill stores, 6032 bytes spill loads\n",
      "\n"
     ]
    }
   ],
   "source": [
    "# Embed the data or load embeddings\n",
    "\n",
    "files = Path(audio_to_label_path).glob(\"**/*.wav\")\n",
    "files = [str(f) for f in files]\n",
    "if read_from_file:\n",
    "  pass\n",
    "  #...load embeddings...\n",
    "else:\n",
    "  embeddings = list(map(lambda f: u.load_and_preprocess(f, e_model),  files))\n",
    "\n"
   ]
  },
  {
   "cell_type": "markdown",
   "metadata": {},
   "source": [
    "lorem"
   ]
  },
  {
   "cell_type": "code",
   "execution_count": 9,
   "metadata": {},
   "outputs": [],
   "source": [
    "# Populate the database\n",
    "for i, embedding in enumerate(embeddings):\n",
    "  n_row = embedding.shape[0]\n",
    "  audio = u.load_audio(files[i])\n",
    "  clip_start = 0 \n",
    "  for n in range(n_row):\n",
    "    audio_db.add_clip_row(\n",
    "      file_name = files[i].split(\"/\")[-1].split(\".\")[0],\n",
    "      file_path = files[i],\n",
    "      duration_sec = len(audio)/cfg.SR,\n",
    "      clip_start = clip_start,\n",
    "      clip_end = clip_start + 5, \n",
    "      sampling_rate=cfg.SR,\n",
    "    )\n",
    "    clip_start += 5\n",
    "\n",
    "preds = u.get_classifier_predictions(embeddings, classifier_model)\n",
    "audio_db.populate_scores(preds)"
   ]
  },
  {
   "cell_type": "code",
   "execution_count": 10,
   "metadata": {},
   "outputs": [
    {
     "data": {
      "text/html": [
       "<div><style>\n",
       ".dataframe > thead > tr,\n",
       ".dataframe > tbody > tr {\n",
       "  text-align: right;\n",
       "  white-space: pre-wrap;\n",
       "}\n",
       "</style>\n",
       "<small>shape: (5, 9)</small><table border=\"1\" class=\"dataframe\"><thead><tr><th>file_name</th><th>file_path</th><th>duration_sec</th><th>clip_start</th><th>clip_end</th><th>sampling_rate</th><th>score</th><th>annotation</th><th>created_at</th></tr><tr><td>str</td><td>str</td><td>f32</td><td>f32</td><td>f32</td><td>i32</td><td>f32</td><td>i32</td><td>datetime[μs]</td></tr></thead><tbody><tr><td>&quot;2024-07-10_07_31&quot;</td><td>&quot;data/2024-07-10_07_31.wav&quot;</td><td>61.21653</td><td>0.0</td><td>5.0</td><td>32000</td><td>9.7632e-17</td><td>4</td><td>2025-03-14 15:36:51.168604</td></tr><tr><td>&quot;2024-07-10_07_31&quot;</td><td>&quot;data/2024-07-10_07_31.wav&quot;</td><td>61.21653</td><td>5.0</td><td>10.0</td><td>32000</td><td>0.000183</td><td>4</td><td>2025-03-14 15:36:51.172510</td></tr><tr><td>&quot;2024-07-10_07_31&quot;</td><td>&quot;data/2024-07-10_07_31.wav&quot;</td><td>61.21653</td><td>10.0</td><td>15.0</td><td>32000</td><td>1.0</td><td>4</td><td>2025-03-14 15:36:51.172783</td></tr><tr><td>&quot;2024-07-10_07_31&quot;</td><td>&quot;data/2024-07-10_07_31.wav&quot;</td><td>61.21653</td><td>15.0</td><td>20.0</td><td>32000</td><td>2.3387e-15</td><td>4</td><td>2025-03-14 15:36:51.172954</td></tr><tr><td>&quot;2024-07-10_07_31&quot;</td><td>&quot;data/2024-07-10_07_31.wav&quot;</td><td>61.21653</td><td>20.0</td><td>25.0</td><td>32000</td><td>6.2512e-16</td><td>4</td><td>2025-03-14 15:36:51.173130</td></tr></tbody></table></div>"
      ],
      "text/plain": [
       "shape: (5, 9)\n",
       "┌───────────┬───────────┬───────────┬───────────┬───┬───────────┬───────────┬───────────┬──────────┐\n",
       "│ file_name ┆ file_path ┆ duration_ ┆ clip_star ┆ … ┆ sampling_ ┆ score     ┆ annotatio ┆ created_ │\n",
       "│ ---       ┆ ---       ┆ sec       ┆ t         ┆   ┆ rate      ┆ ---       ┆ n         ┆ at       │\n",
       "│ str       ┆ str       ┆ ---       ┆ ---       ┆   ┆ ---       ┆ f32       ┆ ---       ┆ ---      │\n",
       "│           ┆           ┆ f32       ┆ f32       ┆   ┆ i32       ┆           ┆ i32       ┆ datetime │\n",
       "│           ┆           ┆           ┆           ┆   ┆           ┆           ┆           ┆ [μs]     │\n",
       "╞═══════════╪═══════════╪═══════════╪═══════════╪═══╪═══════════╪═══════════╪═══════════╪══════════╡\n",
       "│ 2024-07-1 ┆ data/2024 ┆ 61.21653  ┆ 0.0       ┆ … ┆ 32000     ┆ 9.7632e-1 ┆ 4         ┆ 2025-03- │\n",
       "│ 0_07_31   ┆ -07-10_07 ┆           ┆           ┆   ┆           ┆ 7         ┆           ┆ 14 15:36 │\n",
       "│           ┆ _31.wav   ┆           ┆           ┆   ┆           ┆           ┆           ┆ :51.1686 │\n",
       "│           ┆           ┆           ┆           ┆   ┆           ┆           ┆           ┆ 04       │\n",
       "│ 2024-07-1 ┆ data/2024 ┆ 61.21653  ┆ 5.0       ┆ … ┆ 32000     ┆ 0.000183  ┆ 4         ┆ 2025-03- │\n",
       "│ 0_07_31   ┆ -07-10_07 ┆           ┆           ┆   ┆           ┆           ┆           ┆ 14 15:36 │\n",
       "│           ┆ _31.wav   ┆           ┆           ┆   ┆           ┆           ┆           ┆ :51.1725 │\n",
       "│           ┆           ┆           ┆           ┆   ┆           ┆           ┆           ┆ 10       │\n",
       "│ 2024-07-1 ┆ data/2024 ┆ 61.21653  ┆ 10.0      ┆ … ┆ 32000     ┆ 1.0       ┆ 4         ┆ 2025-03- │\n",
       "│ 0_07_31   ┆ -07-10_07 ┆           ┆           ┆   ┆           ┆           ┆           ┆ 14 15:36 │\n",
       "│           ┆ _31.wav   ┆           ┆           ┆   ┆           ┆           ┆           ┆ :51.1727 │\n",
       "│           ┆           ┆           ┆           ┆   ┆           ┆           ┆           ┆ 83       │\n",
       "│ 2024-07-1 ┆ data/2024 ┆ 61.21653  ┆ 15.0      ┆ … ┆ 32000     ┆ 2.3387e-1 ┆ 4         ┆ 2025-03- │\n",
       "│ 0_07_31   ┆ -07-10_07 ┆           ┆           ┆   ┆           ┆ 5         ┆           ┆ 14 15:36 │\n",
       "│           ┆ _31.wav   ┆           ┆           ┆   ┆           ┆           ┆           ┆ :51.1729 │\n",
       "│           ┆           ┆           ┆           ┆   ┆           ┆           ┆           ┆ 54       │\n",
       "│ 2024-07-1 ┆ data/2024 ┆ 61.21653  ┆ 20.0      ┆ … ┆ 32000     ┆ 6.2512e-1 ┆ 4         ┆ 2025-03- │\n",
       "│ 0_07_31   ┆ -07-10_07 ┆           ┆           ┆   ┆           ┆ 6         ┆           ┆ 14 15:36 │\n",
       "│           ┆ _31.wav   ┆           ┆           ┆   ┆           ┆           ┆           ┆ :51.1731 │\n",
       "│           ┆           ┆           ┆           ┆   ┆           ┆           ┆           ┆ 30       │\n",
       "└───────────┴───────────┴───────────┴───────────┴───┴───────────┴───────────┴───────────┴──────────┘"
      ]
     },
     "execution_count": 10,
     "metadata": {},
     "output_type": "execute_result"
    }
   ],
   "source": [
    "\n",
    "audio_db.df.head()"
   ]
  },
  {
   "cell_type": "code",
   "execution_count": 11,
   "metadata": {},
   "outputs": [
    {
     "data": {
      "text/plain": [
       "<module 'modules.display' from '/home/matt/pCloudDrive/PROJECTS/Bioacoustic_Active_Learning/modules/display.py'>"
      ]
     },
     "execution_count": 11,
     "metadata": {},
     "output_type": "execute_result"
    }
   ],
   "source": [
    "from modules import display as dis\n",
    "importlib.reload(dis)"
   ]
  },
  {
   "cell_type": "code",
   "execution_count": 12,
   "metadata": {},
   "outputs": [
    {
     "data": {
      "application/vnd.jupyter.widget-view+json": {
       "model_id": "732b58d0b427429fafb3ccca9a0d9e7a",
       "version_major": 2,
       "version_minor": 0
      },
      "text/plain": [
       "VBox(children=(HBox(children=(HTML(value=\"<h2 style='margin-bottom: 5px;'>Audio Clip Annotation Tool</h2>\"), H…"
      ]
     },
     "metadata": {},
     "output_type": "display_data"
    }
   ],
   "source": [
    "dis.annotate(audio_db)"
   ]
  },
  {
   "cell_type": "code",
   "execution_count": 36,
   "metadata": {},
   "outputs": [],
   "source": [
    "test =audio_db.df"
   ]
  },
  {
   "cell_type": "code",
   "execution_count": 13,
   "metadata": {},
   "outputs": [],
   "source": [
    "audio_db.df.write_csv(\"output.csv\")"
   ]
  },
  {
   "cell_type": "code",
   "execution_count": null,
   "metadata": {},
   "outputs": [],
   "source": []
  }
 ],
 "metadata": {
  "kernelspec": {
   "display_name": "active_learning",
   "language": "python",
   "name": "python3"
  },
  "language_info": {
   "codemirror_mode": {
    "name": "ipython",
    "version": 3
   },
   "file_extension": ".py",
   "mimetype": "text/x-python",
   "name": "python",
   "nbconvert_exporter": "python",
   "pygments_lexer": "ipython3",
   "version": "3.12.9"
  }
 },
 "nbformat": 4,
 "nbformat_minor": 2
}
